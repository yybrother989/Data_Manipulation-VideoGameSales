{
 "cells": [
  {
   "cell_type": "markdown",
   "id": "28141556",
   "metadata": {},
   "source": [
    "<span style =color:red>**1.Import essential libraries**</span>\n"
   ]
  },
  {
   "cell_type": "code",
   "execution_count": 95,
   "id": "8b2a0dc9",
   "metadata": {},
   "outputs": [],
   "source": [
    "import pandas as pd\n",
    "import numpy as np \n",
    "import matplotlib.pyplot as plt\n",
    "import seaborn as sns"
   ]
  },
  {
   "cell_type": "markdown",
   "id": "5a95c37c",
   "metadata": {},
   "source": [
    "<span style =color:red>**2.Load the dataset and review dataset**</span>"
   ]
  },
  {
   "cell_type": "code",
   "execution_count": 2,
   "id": "c764d9fa",
   "metadata": {},
   "outputs": [],
   "source": [
    "df=pd.read_csv('vgsales.csv')"
   ]
  },
  {
   "cell_type": "code",
   "execution_count": 3,
   "id": "e7676fec",
   "metadata": {},
   "outputs": [
    {
     "data": {
      "text/plain": [
       "(16598, 11)"
      ]
     },
     "execution_count": 3,
     "metadata": {},
     "output_type": "execute_result"
    }
   ],
   "source": [
    "df.shape"
   ]
  },
  {
   "cell_type": "code",
   "execution_count": 4,
   "id": "a09535f2",
   "metadata": {},
   "outputs": [
    {
     "data": {
      "text/html": [
       "<div>\n",
       "<style scoped>\n",
       "    .dataframe tbody tr th:only-of-type {\n",
       "        vertical-align: middle;\n",
       "    }\n",
       "\n",
       "    .dataframe tbody tr th {\n",
       "        vertical-align: top;\n",
       "    }\n",
       "\n",
       "    .dataframe thead th {\n",
       "        text-align: right;\n",
       "    }\n",
       "</style>\n",
       "<table border=\"1\" class=\"dataframe\">\n",
       "  <thead>\n",
       "    <tr style=\"text-align: right;\">\n",
       "      <th></th>\n",
       "      <th>Rank</th>\n",
       "      <th>Year</th>\n",
       "      <th>NA_Sales</th>\n",
       "      <th>EU_Sales</th>\n",
       "      <th>JP_Sales</th>\n",
       "      <th>Other_Sales</th>\n",
       "      <th>Global_Sales</th>\n",
       "    </tr>\n",
       "  </thead>\n",
       "  <tbody>\n",
       "    <tr>\n",
       "      <th>count</th>\n",
       "      <td>16598.000000</td>\n",
       "      <td>16327.000000</td>\n",
       "      <td>16598.000000</td>\n",
       "      <td>16598.000000</td>\n",
       "      <td>16598.000000</td>\n",
       "      <td>16598.000000</td>\n",
       "      <td>16598.000000</td>\n",
       "    </tr>\n",
       "    <tr>\n",
       "      <th>mean</th>\n",
       "      <td>8300.605254</td>\n",
       "      <td>2006.406443</td>\n",
       "      <td>0.264667</td>\n",
       "      <td>0.146652</td>\n",
       "      <td>0.077782</td>\n",
       "      <td>0.048063</td>\n",
       "      <td>0.537441</td>\n",
       "    </tr>\n",
       "    <tr>\n",
       "      <th>std</th>\n",
       "      <td>4791.853933</td>\n",
       "      <td>5.828981</td>\n",
       "      <td>0.816683</td>\n",
       "      <td>0.505351</td>\n",
       "      <td>0.309291</td>\n",
       "      <td>0.188588</td>\n",
       "      <td>1.555028</td>\n",
       "    </tr>\n",
       "    <tr>\n",
       "      <th>min</th>\n",
       "      <td>1.000000</td>\n",
       "      <td>1980.000000</td>\n",
       "      <td>0.000000</td>\n",
       "      <td>0.000000</td>\n",
       "      <td>0.000000</td>\n",
       "      <td>0.000000</td>\n",
       "      <td>0.010000</td>\n",
       "    </tr>\n",
       "    <tr>\n",
       "      <th>25%</th>\n",
       "      <td>4151.250000</td>\n",
       "      <td>2003.000000</td>\n",
       "      <td>0.000000</td>\n",
       "      <td>0.000000</td>\n",
       "      <td>0.000000</td>\n",
       "      <td>0.000000</td>\n",
       "      <td>0.060000</td>\n",
       "    </tr>\n",
       "    <tr>\n",
       "      <th>50%</th>\n",
       "      <td>8300.500000</td>\n",
       "      <td>2007.000000</td>\n",
       "      <td>0.080000</td>\n",
       "      <td>0.020000</td>\n",
       "      <td>0.000000</td>\n",
       "      <td>0.010000</td>\n",
       "      <td>0.170000</td>\n",
       "    </tr>\n",
       "    <tr>\n",
       "      <th>75%</th>\n",
       "      <td>12449.750000</td>\n",
       "      <td>2010.000000</td>\n",
       "      <td>0.240000</td>\n",
       "      <td>0.110000</td>\n",
       "      <td>0.040000</td>\n",
       "      <td>0.040000</td>\n",
       "      <td>0.470000</td>\n",
       "    </tr>\n",
       "    <tr>\n",
       "      <th>max</th>\n",
       "      <td>16600.000000</td>\n",
       "      <td>2020.000000</td>\n",
       "      <td>41.490000</td>\n",
       "      <td>29.020000</td>\n",
       "      <td>10.220000</td>\n",
       "      <td>10.570000</td>\n",
       "      <td>82.740000</td>\n",
       "    </tr>\n",
       "  </tbody>\n",
       "</table>\n",
       "</div>"
      ],
      "text/plain": [
       "               Rank          Year      NA_Sales      EU_Sales      JP_Sales  \\\n",
       "count  16598.000000  16327.000000  16598.000000  16598.000000  16598.000000   \n",
       "mean    8300.605254   2006.406443      0.264667      0.146652      0.077782   \n",
       "std     4791.853933      5.828981      0.816683      0.505351      0.309291   \n",
       "min        1.000000   1980.000000      0.000000      0.000000      0.000000   \n",
       "25%     4151.250000   2003.000000      0.000000      0.000000      0.000000   \n",
       "50%     8300.500000   2007.000000      0.080000      0.020000      0.000000   \n",
       "75%    12449.750000   2010.000000      0.240000      0.110000      0.040000   \n",
       "max    16600.000000   2020.000000     41.490000     29.020000     10.220000   \n",
       "\n",
       "        Other_Sales  Global_Sales  \n",
       "count  16598.000000  16598.000000  \n",
       "mean       0.048063      0.537441  \n",
       "std        0.188588      1.555028  \n",
       "min        0.000000      0.010000  \n",
       "25%        0.000000      0.060000  \n",
       "50%        0.010000      0.170000  \n",
       "75%        0.040000      0.470000  \n",
       "max       10.570000     82.740000  "
      ]
     },
     "execution_count": 4,
     "metadata": {},
     "output_type": "execute_result"
    }
   ],
   "source": [
    "df.describe()"
   ]
  },
  {
   "cell_type": "code",
   "execution_count": 5,
   "id": "4c2700ca",
   "metadata": {},
   "outputs": [
    {
     "data": {
      "text/html": [
       "<div>\n",
       "<style scoped>\n",
       "    .dataframe tbody tr th:only-of-type {\n",
       "        vertical-align: middle;\n",
       "    }\n",
       "\n",
       "    .dataframe tbody tr th {\n",
       "        vertical-align: top;\n",
       "    }\n",
       "\n",
       "    .dataframe thead th {\n",
       "        text-align: right;\n",
       "    }\n",
       "</style>\n",
       "<table border=\"1\" class=\"dataframe\">\n",
       "  <thead>\n",
       "    <tr style=\"text-align: right;\">\n",
       "      <th></th>\n",
       "      <th>Rank</th>\n",
       "      <th>Name</th>\n",
       "      <th>Platform</th>\n",
       "      <th>Year</th>\n",
       "      <th>Genre</th>\n",
       "      <th>Publisher</th>\n",
       "      <th>NA_Sales</th>\n",
       "      <th>EU_Sales</th>\n",
       "      <th>JP_Sales</th>\n",
       "      <th>Other_Sales</th>\n",
       "      <th>Global_Sales</th>\n",
       "    </tr>\n",
       "  </thead>\n",
       "  <tbody>\n",
       "    <tr>\n",
       "      <th>0</th>\n",
       "      <td>1</td>\n",
       "      <td>Wii Sports</td>\n",
       "      <td>Wii</td>\n",
       "      <td>2006.0</td>\n",
       "      <td>Sports</td>\n",
       "      <td>Nintendo</td>\n",
       "      <td>41.49</td>\n",
       "      <td>29.02</td>\n",
       "      <td>3.77</td>\n",
       "      <td>8.46</td>\n",
       "      <td>82.74</td>\n",
       "    </tr>\n",
       "    <tr>\n",
       "      <th>1</th>\n",
       "      <td>2</td>\n",
       "      <td>Super Mario Bros.</td>\n",
       "      <td>NES</td>\n",
       "      <td>1985.0</td>\n",
       "      <td>Platform</td>\n",
       "      <td>Nintendo</td>\n",
       "      <td>29.08</td>\n",
       "      <td>3.58</td>\n",
       "      <td>6.81</td>\n",
       "      <td>0.77</td>\n",
       "      <td>40.24</td>\n",
       "    </tr>\n",
       "    <tr>\n",
       "      <th>2</th>\n",
       "      <td>3</td>\n",
       "      <td>Mario Kart Wii</td>\n",
       "      <td>Wii</td>\n",
       "      <td>2008.0</td>\n",
       "      <td>Racing</td>\n",
       "      <td>Nintendo</td>\n",
       "      <td>15.85</td>\n",
       "      <td>12.88</td>\n",
       "      <td>3.79</td>\n",
       "      <td>3.31</td>\n",
       "      <td>35.82</td>\n",
       "    </tr>\n",
       "    <tr>\n",
       "      <th>3</th>\n",
       "      <td>4</td>\n",
       "      <td>Wii Sports Resort</td>\n",
       "      <td>Wii</td>\n",
       "      <td>2009.0</td>\n",
       "      <td>Sports</td>\n",
       "      <td>Nintendo</td>\n",
       "      <td>15.75</td>\n",
       "      <td>11.01</td>\n",
       "      <td>3.28</td>\n",
       "      <td>2.96</td>\n",
       "      <td>33.00</td>\n",
       "    </tr>\n",
       "    <tr>\n",
       "      <th>4</th>\n",
       "      <td>5</td>\n",
       "      <td>Pokemon Red/Pokemon Blue</td>\n",
       "      <td>GB</td>\n",
       "      <td>1996.0</td>\n",
       "      <td>Role-Playing</td>\n",
       "      <td>Nintendo</td>\n",
       "      <td>11.27</td>\n",
       "      <td>8.89</td>\n",
       "      <td>10.22</td>\n",
       "      <td>1.00</td>\n",
       "      <td>31.37</td>\n",
       "    </tr>\n",
       "  </tbody>\n",
       "</table>\n",
       "</div>"
      ],
      "text/plain": [
       "   Rank                      Name Platform    Year         Genre Publisher  \\\n",
       "0     1                Wii Sports      Wii  2006.0        Sports  Nintendo   \n",
       "1     2         Super Mario Bros.      NES  1985.0      Platform  Nintendo   \n",
       "2     3            Mario Kart Wii      Wii  2008.0        Racing  Nintendo   \n",
       "3     4         Wii Sports Resort      Wii  2009.0        Sports  Nintendo   \n",
       "4     5  Pokemon Red/Pokemon Blue       GB  1996.0  Role-Playing  Nintendo   \n",
       "\n",
       "   NA_Sales  EU_Sales  JP_Sales  Other_Sales  Global_Sales  \n",
       "0     41.49     29.02      3.77         8.46         82.74  \n",
       "1     29.08      3.58      6.81         0.77         40.24  \n",
       "2     15.85     12.88      3.79         3.31         35.82  \n",
       "3     15.75     11.01      3.28         2.96         33.00  \n",
       "4     11.27      8.89     10.22         1.00         31.37  "
      ]
     },
     "execution_count": 5,
     "metadata": {},
     "output_type": "execute_result"
    }
   ],
   "source": [
    "df.head()"
   ]
  },
  {
   "cell_type": "markdown",
   "id": "1f7b300b",
   "metadata": {},
   "source": [
    "<span style =color:red>**2.Check data integrity**</span>"
   ]
  },
  {
   "cell_type": "markdown",
   "id": "e7266675",
   "metadata": {},
   "source": [
    "**a).missing value**"
   ]
  },
  {
   "cell_type": "code",
   "execution_count": 6,
   "id": "7246f450",
   "metadata": {},
   "outputs": [
    {
     "name": "stdout",
     "output_type": "stream",
     "text": [
      "<class 'pandas.core.frame.DataFrame'>\n",
      "RangeIndex: 16598 entries, 0 to 16597\n",
      "Data columns (total 11 columns):\n",
      " #   Column        Non-Null Count  Dtype  \n",
      "---  ------        --------------  -----  \n",
      " 0   Rank          16598 non-null  int64  \n",
      " 1   Name          16598 non-null  object \n",
      " 2   Platform      16598 non-null  object \n",
      " 3   Year          16327 non-null  float64\n",
      " 4   Genre         16598 non-null  object \n",
      " 5   Publisher     16540 non-null  object \n",
      " 6   NA_Sales      16598 non-null  float64\n",
      " 7   EU_Sales      16598 non-null  float64\n",
      " 8   JP_Sales      16598 non-null  float64\n",
      " 9   Other_Sales   16598 non-null  float64\n",
      " 10  Global_Sales  16598 non-null  float64\n",
      "dtypes: float64(6), int64(1), object(4)\n",
      "memory usage: 1.4+ MB\n"
     ]
    }
   ],
   "source": [
    "df.info()"
   ]
  },
  {
   "cell_type": "code",
   "execution_count": 7,
   "id": "89c67ac5",
   "metadata": {},
   "outputs": [
    {
     "data": {
      "text/plain": [
       "Rank              0\n",
       "Name              0\n",
       "Platform          0\n",
       "Year            271\n",
       "Genre             0\n",
       "Publisher        58\n",
       "NA_Sales          0\n",
       "EU_Sales          0\n",
       "JP_Sales          0\n",
       "Other_Sales       0\n",
       "Global_Sales      0\n",
       "dtype: int64"
      ]
     },
     "execution_count": 7,
     "metadata": {},
     "output_type": "execute_result"
    }
   ],
   "source": [
    "df.isnull().sum(axis=0)"
   ]
  },
  {
   "cell_type": "markdown",
   "id": "4114c0f8",
   "metadata": {},
   "source": [
    "We can see that the columns of Platform, Publisher have the null values."
   ]
  },
  {
   "cell_type": "markdown",
   "id": "71a54423",
   "metadata": {},
   "source": [
    "How can we deal with missing value in this specific case ?\\\n",
    "1.<span style=color:blue>Deleting</span>:Simply drop row with the null value, this method fits the scenorio that the total number of null values is relatively small\\ than total number of rows\\\n",
    "\n",
    "2.<span style=color:blue>Imputation</span>:Replace missing value with the certain measurements, like mean of the column or the median of the column.\\\n",
    "\n",
    "3.<span style=color:blue>Advanced ML algorithm</span>:There are algorithms that can be made robust to missing data, \\such as k-Nearest Neighbors that can ignore a column from a distance measure when a value is missing. Naive Bayes can\\ also support missing values when making a prediction\n",
    "\n",
    "\n",
    "[This is a website reference](https://machinelearningmastery.com/handle-missing-data-python/)"
   ]
  },
  {
   "cell_type": "markdown",
   "id": "d0f12073",
   "metadata": {},
   "source": [
    "Solution in this specific case:\n",
    "\n",
    "\n",
    "Since there are 271 missing values in the column of Year and 58 missing value in Publisher compare to 16598 total \n",
    "number of rows, which is relatively small and may lead relatively small effect for the whole dataset using deletion \n",
    "method. Futhermore, we may also consider how to trade off the accurancy and efficency, in this case, drop the null \n",
    "value rows may be the most efficient way without hurting significant accurancy."
   ]
  },
  {
   "cell_type": "code",
   "execution_count": 8,
   "id": "cee512e0",
   "metadata": {},
   "outputs": [],
   "source": [
    "df.dropna(axis=0,inplace=True)"
   ]
  },
  {
   "cell_type": "code",
   "execution_count": 9,
   "id": "d2e24b05",
   "metadata": {},
   "outputs": [
    {
     "data": {
      "text/plain": [
       "Rank            0\n",
       "Name            0\n",
       "Platform        0\n",
       "Year            0\n",
       "Genre           0\n",
       "Publisher       0\n",
       "NA_Sales        0\n",
       "EU_Sales        0\n",
       "JP_Sales        0\n",
       "Other_Sales     0\n",
       "Global_Sales    0\n",
       "dtype: int64"
      ]
     },
     "execution_count": 9,
     "metadata": {},
     "output_type": "execute_result"
    }
   ],
   "source": [
    "df.isnull().sum(axis=0)"
   ]
  },
  {
   "cell_type": "markdown",
   "id": "4b5d59b1",
   "metadata": {},
   "source": [
    "**b).duplicate rows**"
   ]
  },
  {
   "cell_type": "code",
   "execution_count": 10,
   "id": "fcc2a4d0",
   "metadata": {},
   "outputs": [],
   "source": [
    "df=df.astype({\"Year\":'str'})"
   ]
  },
  {
   "cell_type": "code",
   "execution_count": 11,
   "id": "e96e9db8",
   "metadata": {},
   "outputs": [
    {
     "data": {
      "text/html": [
       "<div>\n",
       "<style scoped>\n",
       "    .dataframe tbody tr th:only-of-type {\n",
       "        vertical-align: middle;\n",
       "    }\n",
       "\n",
       "    .dataframe tbody tr th {\n",
       "        vertical-align: top;\n",
       "    }\n",
       "\n",
       "    .dataframe thead th {\n",
       "        text-align: right;\n",
       "    }\n",
       "</style>\n",
       "<table border=\"1\" class=\"dataframe\">\n",
       "  <thead>\n",
       "    <tr style=\"text-align: right;\">\n",
       "      <th></th>\n",
       "      <th>Rank</th>\n",
       "      <th>Name</th>\n",
       "      <th>Platform</th>\n",
       "      <th>Year</th>\n",
       "      <th>Genre</th>\n",
       "      <th>Publisher</th>\n",
       "      <th>NA_Sales</th>\n",
       "      <th>EU_Sales</th>\n",
       "      <th>JP_Sales</th>\n",
       "      <th>Other_Sales</th>\n",
       "      <th>Global_Sales</th>\n",
       "    </tr>\n",
       "  </thead>\n",
       "  <tbody>\n",
       "    <tr>\n",
       "      <th>603</th>\n",
       "      <td>604</td>\n",
       "      <td>Madden NFL 13</td>\n",
       "      <td>PS3</td>\n",
       "      <td>2012.0</td>\n",
       "      <td>Sports</td>\n",
       "      <td>Electronic Arts</td>\n",
       "      <td>2.11</td>\n",
       "      <td>0.23</td>\n",
       "      <td>0.0</td>\n",
       "      <td>0.22</td>\n",
       "      <td>2.56</td>\n",
       "    </tr>\n",
       "    <tr>\n",
       "      <th>16127</th>\n",
       "      <td>16130</td>\n",
       "      <td>Madden NFL 13</td>\n",
       "      <td>PS3</td>\n",
       "      <td>2012.0</td>\n",
       "      <td>Sports</td>\n",
       "      <td>Electronic Arts</td>\n",
       "      <td>0.00</td>\n",
       "      <td>0.01</td>\n",
       "      <td>0.0</td>\n",
       "      <td>0.00</td>\n",
       "      <td>0.01</td>\n",
       "    </tr>\n",
       "  </tbody>\n",
       "</table>\n",
       "</div>"
      ],
      "text/plain": [
       "        Rank           Name Platform    Year   Genre        Publisher  \\\n",
       "603      604  Madden NFL 13      PS3  2012.0  Sports  Electronic Arts   \n",
       "16127  16130  Madden NFL 13      PS3  2012.0  Sports  Electronic Arts   \n",
       "\n",
       "       NA_Sales  EU_Sales  JP_Sales  Other_Sales  Global_Sales  \n",
       "603        2.11      0.23       0.0         0.22          2.56  \n",
       "16127      0.00      0.01       0.0         0.00          0.01  "
      ]
     },
     "execution_count": 11,
     "metadata": {},
     "output_type": "execute_result"
    }
   ],
   "source": [
    "column_names=['Year','Publisher','Name','Platform','Genre']\n",
    "dup=df.duplicated(subset=column_names,keep=False)\n",
    "df[dup]"
   ]
  },
  {
   "cell_type": "markdown",
   "id": "d928c3d2",
   "metadata": {},
   "source": [
    "We found that there were two duplicate rows with the same name,platform,year,genre,publisher, so we decided to duplicate rows and merge the corresponding sales data."
   ]
  },
  {
   "cell_type": "code",
   "execution_count": 12,
   "id": "9b7a4147",
   "metadata": {},
   "outputs": [],
   "source": [
    "df=df.groupby(by=column_names).agg({'NA_Sales':'sum','EU_Sales':'sum','JP_Sales':'sum','Other_Sales':'sum','Global_Sales':'sum'})"
   ]
  },
  {
   "cell_type": "code",
   "execution_count": 13,
   "id": "c4901064",
   "metadata": {},
   "outputs": [],
   "source": [
    "df.reset_index(inplace=True)"
   ]
  },
  {
   "cell_type": "code",
   "execution_count": 14,
   "id": "e78b558b",
   "metadata": {},
   "outputs": [
    {
     "data": {
      "text/html": [
       "<div>\n",
       "<style scoped>\n",
       "    .dataframe tbody tr th:only-of-type {\n",
       "        vertical-align: middle;\n",
       "    }\n",
       "\n",
       "    .dataframe tbody tr th {\n",
       "        vertical-align: top;\n",
       "    }\n",
       "\n",
       "    .dataframe thead th {\n",
       "        text-align: right;\n",
       "    }\n",
       "</style>\n",
       "<table border=\"1\" class=\"dataframe\">\n",
       "  <thead>\n",
       "    <tr style=\"text-align: right;\">\n",
       "      <th></th>\n",
       "      <th>Year</th>\n",
       "      <th>Publisher</th>\n",
       "      <th>Name</th>\n",
       "      <th>Platform</th>\n",
       "      <th>Genre</th>\n",
       "      <th>NA_Sales</th>\n",
       "      <th>EU_Sales</th>\n",
       "      <th>JP_Sales</th>\n",
       "      <th>Other_Sales</th>\n",
       "      <th>Global_Sales</th>\n",
       "    </tr>\n",
       "  </thead>\n",
       "  <tbody>\n",
       "    <tr>\n",
       "      <th>13735</th>\n",
       "      <td>2012.0</td>\n",
       "      <td>Electronic Arts</td>\n",
       "      <td>Madden NFL 13</td>\n",
       "      <td>PS3</td>\n",
       "      <td>Sports</td>\n",
       "      <td>2.11</td>\n",
       "      <td>0.24</td>\n",
       "      <td>0.0</td>\n",
       "      <td>0.22</td>\n",
       "      <td>2.57</td>\n",
       "    </tr>\n",
       "  </tbody>\n",
       "</table>\n",
       "</div>"
      ],
      "text/plain": [
       "         Year        Publisher           Name Platform   Genre  NA_Sales  \\\n",
       "13735  2012.0  Electronic Arts  Madden NFL 13      PS3  Sports      2.11   \n",
       "\n",
       "       EU_Sales  JP_Sales  Other_Sales  Global_Sales  \n",
       "13735      0.24       0.0         0.22          2.57  "
      ]
     },
     "execution_count": 14,
     "metadata": {},
     "output_type": "execute_result"
    }
   ],
   "source": [
    "df[(df['Name']=='Madden NFL 13')& (df['Platform']=='PS3')]"
   ]
  },
  {
   "cell_type": "markdown",
   "id": "d432d444",
   "metadata": {},
   "source": [
    "We can see that the duplicated row disappered and the sales data was merged."
   ]
  },
  {
   "cell_type": "markdown",
   "id": "102898de",
   "metadata": {},
   "source": [
    "**c.)Categorical variable consistency**"
   ]
  },
  {
   "cell_type": "code",
   "execution_count": 15,
   "id": "75fa5c70",
   "metadata": {},
   "outputs": [
    {
     "data": {
      "text/plain": [
       "array(['2600', 'NES', 'PC', 'DS', 'GB', 'SNES', 'GEN', 'GG', 'NG', 'SCD',\n",
       "       'SAT', 'PS', '3DO', 'TG16', 'N64', 'PCFX', 'DC', 'WS', 'PS2',\n",
       "       'GBA', 'XB', 'GC', 'PSP', 'X360', 'PS3', 'Wii', '3DS', 'PSV',\n",
       "       'WiiU', 'PS4', 'XOne'], dtype=object)"
      ]
     },
     "execution_count": 15,
     "metadata": {},
     "output_type": "execute_result"
    }
   ],
   "source": [
    "df['Platform'].unique()"
   ]
  },
  {
   "cell_type": "code",
   "execution_count": 16,
   "id": "3b995804",
   "metadata": {},
   "outputs": [
    {
     "data": {
      "text/html": [
       "<div>\n",
       "<style scoped>\n",
       "    .dataframe tbody tr th:only-of-type {\n",
       "        vertical-align: middle;\n",
       "    }\n",
       "\n",
       "    .dataframe tbody tr th {\n",
       "        vertical-align: top;\n",
       "    }\n",
       "\n",
       "    .dataframe thead th {\n",
       "        text-align: right;\n",
       "    }\n",
       "</style>\n",
       "<table border=\"1\" class=\"dataframe\">\n",
       "  <thead>\n",
       "    <tr style=\"text-align: right;\">\n",
       "      <th></th>\n",
       "      <th>Year</th>\n",
       "      <th>Publisher</th>\n",
       "      <th>Name</th>\n",
       "      <th>Platform</th>\n",
       "      <th>NA_Sales</th>\n",
       "      <th>EU_Sales</th>\n",
       "      <th>JP_Sales</th>\n",
       "      <th>Other_Sales</th>\n",
       "      <th>Global_Sales</th>\n",
       "    </tr>\n",
       "    <tr>\n",
       "      <th>Genre</th>\n",
       "      <th></th>\n",
       "      <th></th>\n",
       "      <th></th>\n",
       "      <th></th>\n",
       "      <th></th>\n",
       "      <th></th>\n",
       "      <th></th>\n",
       "      <th></th>\n",
       "      <th></th>\n",
       "    </tr>\n",
       "  </thead>\n",
       "  <tbody>\n",
       "    <tr>\n",
       "      <th>Action</th>\n",
       "      <td>3251</td>\n",
       "      <td>3251</td>\n",
       "      <td>3251</td>\n",
       "      <td>3251</td>\n",
       "      <td>3251</td>\n",
       "      <td>3251</td>\n",
       "      <td>3251</td>\n",
       "      <td>3251</td>\n",
       "      <td>3251</td>\n",
       "    </tr>\n",
       "    <tr>\n",
       "      <th>Adventure</th>\n",
       "      <td>1274</td>\n",
       "      <td>1274</td>\n",
       "      <td>1274</td>\n",
       "      <td>1274</td>\n",
       "      <td>1274</td>\n",
       "      <td>1274</td>\n",
       "      <td>1274</td>\n",
       "      <td>1274</td>\n",
       "      <td>1274</td>\n",
       "    </tr>\n",
       "    <tr>\n",
       "      <th>Fighting</th>\n",
       "      <td>836</td>\n",
       "      <td>836</td>\n",
       "      <td>836</td>\n",
       "      <td>836</td>\n",
       "      <td>836</td>\n",
       "      <td>836</td>\n",
       "      <td>836</td>\n",
       "      <td>836</td>\n",
       "      <td>836</td>\n",
       "    </tr>\n",
       "    <tr>\n",
       "      <th>Misc</th>\n",
       "      <td>1686</td>\n",
       "      <td>1686</td>\n",
       "      <td>1686</td>\n",
       "      <td>1686</td>\n",
       "      <td>1686</td>\n",
       "      <td>1686</td>\n",
       "      <td>1686</td>\n",
       "      <td>1686</td>\n",
       "      <td>1686</td>\n",
       "    </tr>\n",
       "    <tr>\n",
       "      <th>Platform</th>\n",
       "      <td>875</td>\n",
       "      <td>875</td>\n",
       "      <td>875</td>\n",
       "      <td>875</td>\n",
       "      <td>875</td>\n",
       "      <td>875</td>\n",
       "      <td>875</td>\n",
       "      <td>875</td>\n",
       "      <td>875</td>\n",
       "    </tr>\n",
       "    <tr>\n",
       "      <th>Puzzle</th>\n",
       "      <td>570</td>\n",
       "      <td>570</td>\n",
       "      <td>570</td>\n",
       "      <td>570</td>\n",
       "      <td>570</td>\n",
       "      <td>570</td>\n",
       "      <td>570</td>\n",
       "      <td>570</td>\n",
       "      <td>570</td>\n",
       "    </tr>\n",
       "    <tr>\n",
       "      <th>Racing</th>\n",
       "      <td>1225</td>\n",
       "      <td>1225</td>\n",
       "      <td>1225</td>\n",
       "      <td>1225</td>\n",
       "      <td>1225</td>\n",
       "      <td>1225</td>\n",
       "      <td>1225</td>\n",
       "      <td>1225</td>\n",
       "      <td>1225</td>\n",
       "    </tr>\n",
       "    <tr>\n",
       "      <th>Role-Playing</th>\n",
       "      <td>1470</td>\n",
       "      <td>1470</td>\n",
       "      <td>1470</td>\n",
       "      <td>1470</td>\n",
       "      <td>1470</td>\n",
       "      <td>1470</td>\n",
       "      <td>1470</td>\n",
       "      <td>1470</td>\n",
       "      <td>1470</td>\n",
       "    </tr>\n",
       "    <tr>\n",
       "      <th>Shooter</th>\n",
       "      <td>1282</td>\n",
       "      <td>1282</td>\n",
       "      <td>1282</td>\n",
       "      <td>1282</td>\n",
       "      <td>1282</td>\n",
       "      <td>1282</td>\n",
       "      <td>1282</td>\n",
       "      <td>1282</td>\n",
       "      <td>1282</td>\n",
       "    </tr>\n",
       "    <tr>\n",
       "      <th>Simulation</th>\n",
       "      <td>848</td>\n",
       "      <td>848</td>\n",
       "      <td>848</td>\n",
       "      <td>848</td>\n",
       "      <td>848</td>\n",
       "      <td>848</td>\n",
       "      <td>848</td>\n",
       "      <td>848</td>\n",
       "      <td>848</td>\n",
       "    </tr>\n",
       "    <tr>\n",
       "      <th>Sports</th>\n",
       "      <td>2303</td>\n",
       "      <td>2303</td>\n",
       "      <td>2303</td>\n",
       "      <td>2303</td>\n",
       "      <td>2303</td>\n",
       "      <td>2303</td>\n",
       "      <td>2303</td>\n",
       "      <td>2303</td>\n",
       "      <td>2303</td>\n",
       "    </tr>\n",
       "    <tr>\n",
       "      <th>Strategy</th>\n",
       "      <td>670</td>\n",
       "      <td>670</td>\n",
       "      <td>670</td>\n",
       "      <td>670</td>\n",
       "      <td>670</td>\n",
       "      <td>670</td>\n",
       "      <td>670</td>\n",
       "      <td>670</td>\n",
       "      <td>670</td>\n",
       "    </tr>\n",
       "  </tbody>\n",
       "</table>\n",
       "</div>"
      ],
      "text/plain": [
       "              Year  Publisher  Name  Platform  NA_Sales  EU_Sales  JP_Sales  \\\n",
       "Genre                                                                         \n",
       "Action        3251       3251  3251      3251      3251      3251      3251   \n",
       "Adventure     1274       1274  1274      1274      1274      1274      1274   \n",
       "Fighting       836        836   836       836       836       836       836   \n",
       "Misc          1686       1686  1686      1686      1686      1686      1686   \n",
       "Platform       875        875   875       875       875       875       875   \n",
       "Puzzle         570        570   570       570       570       570       570   \n",
       "Racing        1225       1225  1225      1225      1225      1225      1225   \n",
       "Role-Playing  1470       1470  1470      1470      1470      1470      1470   \n",
       "Shooter       1282       1282  1282      1282      1282      1282      1282   \n",
       "Simulation     848        848   848       848       848       848       848   \n",
       "Sports        2303       2303  2303      2303      2303      2303      2303   \n",
       "Strategy       670        670   670       670       670       670       670   \n",
       "\n",
       "              Other_Sales  Global_Sales  \n",
       "Genre                                    \n",
       "Action               3251          3251  \n",
       "Adventure            1274          1274  \n",
       "Fighting              836           836  \n",
       "Misc                 1686          1686  \n",
       "Platform              875           875  \n",
       "Puzzle                570           570  \n",
       "Racing               1225          1225  \n",
       "Role-Playing         1470          1470  \n",
       "Shooter              1282          1282  \n",
       "Simulation            848           848  \n",
       "Sports               2303          2303  \n",
       "Strategy              670           670  "
      ]
     },
     "execution_count": 16,
     "metadata": {},
     "output_type": "execute_result"
    }
   ],
   "source": [
    "df.groupby(by='Genre').count()"
   ]
  },
  {
   "cell_type": "markdown",
   "id": "94c42a63",
   "metadata": {},
   "source": [
    "There is no data consistency on categarical variable"
   ]
  },
  {
   "cell_type": "markdown",
   "id": "c8054ffa",
   "metadata": {},
   "source": [
    "**d.) Uniformaity**\n"
   ]
  },
  {
   "cell_type": "code",
   "execution_count": 17,
   "id": "51c87501",
   "metadata": {},
   "outputs": [
    {
     "data": {
      "text/html": [
       "<div>\n",
       "<style scoped>\n",
       "    .dataframe tbody tr th:only-of-type {\n",
       "        vertical-align: middle;\n",
       "    }\n",
       "\n",
       "    .dataframe tbody tr th {\n",
       "        vertical-align: top;\n",
       "    }\n",
       "\n",
       "    .dataframe thead th {\n",
       "        text-align: right;\n",
       "    }\n",
       "</style>\n",
       "<table border=\"1\" class=\"dataframe\">\n",
       "  <thead>\n",
       "    <tr style=\"text-align: right;\">\n",
       "      <th></th>\n",
       "      <th>Year</th>\n",
       "      <th>Publisher</th>\n",
       "      <th>Name</th>\n",
       "      <th>Platform</th>\n",
       "      <th>Genre</th>\n",
       "      <th>NA_Sales</th>\n",
       "      <th>EU_Sales</th>\n",
       "      <th>JP_Sales</th>\n",
       "      <th>Other_Sales</th>\n",
       "      <th>Global_Sales</th>\n",
       "    </tr>\n",
       "  </thead>\n",
       "  <tbody>\n",
       "    <tr>\n",
       "      <th>0</th>\n",
       "      <td>1980.0</td>\n",
       "      <td>Activision</td>\n",
       "      <td>Boxing</td>\n",
       "      <td>2600</td>\n",
       "      <td>Fighting</td>\n",
       "      <td>0.72</td>\n",
       "      <td>0.04</td>\n",
       "      <td>0.0</td>\n",
       "      <td>0.01</td>\n",
       "      <td>0.77</td>\n",
       "    </tr>\n",
       "    <tr>\n",
       "      <th>1</th>\n",
       "      <td>1980.0</td>\n",
       "      <td>Activision</td>\n",
       "      <td>Bridge</td>\n",
       "      <td>2600</td>\n",
       "      <td>Misc</td>\n",
       "      <td>0.25</td>\n",
       "      <td>0.02</td>\n",
       "      <td>0.0</td>\n",
       "      <td>0.00</td>\n",
       "      <td>0.27</td>\n",
       "    </tr>\n",
       "    <tr>\n",
       "      <th>2</th>\n",
       "      <td>1980.0</td>\n",
       "      <td>Activision</td>\n",
       "      <td>Freeway</td>\n",
       "      <td>2600</td>\n",
       "      <td>Action</td>\n",
       "      <td>0.32</td>\n",
       "      <td>0.02</td>\n",
       "      <td>0.0</td>\n",
       "      <td>0.00</td>\n",
       "      <td>0.34</td>\n",
       "    </tr>\n",
       "    <tr>\n",
       "      <th>3</th>\n",
       "      <td>1980.0</td>\n",
       "      <td>Activision</td>\n",
       "      <td>Ice Hockey</td>\n",
       "      <td>2600</td>\n",
       "      <td>Sports</td>\n",
       "      <td>0.46</td>\n",
       "      <td>0.03</td>\n",
       "      <td>0.0</td>\n",
       "      <td>0.01</td>\n",
       "      <td>0.49</td>\n",
       "    </tr>\n",
       "    <tr>\n",
       "      <th>4</th>\n",
       "      <td>1980.0</td>\n",
       "      <td>Activision</td>\n",
       "      <td>Kaboom!</td>\n",
       "      <td>2600</td>\n",
       "      <td>Misc</td>\n",
       "      <td>1.07</td>\n",
       "      <td>0.07</td>\n",
       "      <td>0.0</td>\n",
       "      <td>0.01</td>\n",
       "      <td>1.15</td>\n",
       "    </tr>\n",
       "  </tbody>\n",
       "</table>\n",
       "</div>"
      ],
      "text/plain": [
       "     Year   Publisher        Name Platform     Genre  NA_Sales  EU_Sales  \\\n",
       "0  1980.0  Activision      Boxing     2600  Fighting      0.72      0.04   \n",
       "1  1980.0  Activision      Bridge     2600      Misc      0.25      0.02   \n",
       "2  1980.0  Activision     Freeway     2600    Action      0.32      0.02   \n",
       "3  1980.0  Activision  Ice Hockey     2600    Sports      0.46      0.03   \n",
       "4  1980.0  Activision     Kaboom!     2600      Misc      1.07      0.07   \n",
       "\n",
       "   JP_Sales  Other_Sales  Global_Sales  \n",
       "0       0.0         0.01          0.77  \n",
       "1       0.0         0.00          0.27  \n",
       "2       0.0         0.00          0.34  \n",
       "3       0.0         0.01          0.49  \n",
       "4       0.0         0.01          1.15  "
      ]
     },
     "execution_count": 17,
     "metadata": {},
     "output_type": "execute_result"
    }
   ],
   "source": [
    "df.head()"
   ]
  },
  {
   "cell_type": "markdown",
   "id": "b4f550cb",
   "metadata": {},
   "source": [
    "We can find that Year column should be integers rather than for example 1980.0"
   ]
  },
  {
   "cell_type": "code",
   "execution_count": 33,
   "id": "58ecf5df",
   "metadata": {},
   "outputs": [],
   "source": [
    "df['year']=df['Year'].str[0:4]\n",
    "df.drop(columns='Year',inplace=True)"
   ]
  },
  {
   "cell_type": "code",
   "execution_count": 34,
   "id": "3dd37021",
   "metadata": {},
   "outputs": [
    {
     "data": {
      "text/html": [
       "<div>\n",
       "<style scoped>\n",
       "    .dataframe tbody tr th:only-of-type {\n",
       "        vertical-align: middle;\n",
       "    }\n",
       "\n",
       "    .dataframe tbody tr th {\n",
       "        vertical-align: top;\n",
       "    }\n",
       "\n",
       "    .dataframe thead th {\n",
       "        text-align: right;\n",
       "    }\n",
       "</style>\n",
       "<table border=\"1\" class=\"dataframe\">\n",
       "  <thead>\n",
       "    <tr style=\"text-align: right;\">\n",
       "      <th></th>\n",
       "      <th>Publisher</th>\n",
       "      <th>Name</th>\n",
       "      <th>Platform</th>\n",
       "      <th>Genre</th>\n",
       "      <th>NA_Sales</th>\n",
       "      <th>EU_Sales</th>\n",
       "      <th>JP_Sales</th>\n",
       "      <th>Other_Sales</th>\n",
       "      <th>Global_Sales</th>\n",
       "      <th>year</th>\n",
       "    </tr>\n",
       "  </thead>\n",
       "  <tbody>\n",
       "    <tr>\n",
       "      <th>0</th>\n",
       "      <td>Activision</td>\n",
       "      <td>Boxing</td>\n",
       "      <td>2600</td>\n",
       "      <td>Fighting</td>\n",
       "      <td>0.72</td>\n",
       "      <td>0.04</td>\n",
       "      <td>0.0</td>\n",
       "      <td>0.01</td>\n",
       "      <td>0.77</td>\n",
       "      <td>1980</td>\n",
       "    </tr>\n",
       "    <tr>\n",
       "      <th>1</th>\n",
       "      <td>Activision</td>\n",
       "      <td>Bridge</td>\n",
       "      <td>2600</td>\n",
       "      <td>Misc</td>\n",
       "      <td>0.25</td>\n",
       "      <td>0.02</td>\n",
       "      <td>0.0</td>\n",
       "      <td>0.00</td>\n",
       "      <td>0.27</td>\n",
       "      <td>1980</td>\n",
       "    </tr>\n",
       "    <tr>\n",
       "      <th>2</th>\n",
       "      <td>Activision</td>\n",
       "      <td>Freeway</td>\n",
       "      <td>2600</td>\n",
       "      <td>Action</td>\n",
       "      <td>0.32</td>\n",
       "      <td>0.02</td>\n",
       "      <td>0.0</td>\n",
       "      <td>0.00</td>\n",
       "      <td>0.34</td>\n",
       "      <td>1980</td>\n",
       "    </tr>\n",
       "    <tr>\n",
       "      <th>3</th>\n",
       "      <td>Activision</td>\n",
       "      <td>Ice Hockey</td>\n",
       "      <td>2600</td>\n",
       "      <td>Sports</td>\n",
       "      <td>0.46</td>\n",
       "      <td>0.03</td>\n",
       "      <td>0.0</td>\n",
       "      <td>0.01</td>\n",
       "      <td>0.49</td>\n",
       "      <td>1980</td>\n",
       "    </tr>\n",
       "    <tr>\n",
       "      <th>4</th>\n",
       "      <td>Activision</td>\n",
       "      <td>Kaboom!</td>\n",
       "      <td>2600</td>\n",
       "      <td>Misc</td>\n",
       "      <td>1.07</td>\n",
       "      <td>0.07</td>\n",
       "      <td>0.0</td>\n",
       "      <td>0.01</td>\n",
       "      <td>1.15</td>\n",
       "      <td>1980</td>\n",
       "    </tr>\n",
       "  </tbody>\n",
       "</table>\n",
       "</div>"
      ],
      "text/plain": [
       "    Publisher        Name Platform     Genre  NA_Sales  EU_Sales  JP_Sales  \\\n",
       "0  Activision      Boxing     2600  Fighting      0.72      0.04       0.0   \n",
       "1  Activision      Bridge     2600      Misc      0.25      0.02       0.0   \n",
       "2  Activision     Freeway     2600    Action      0.32      0.02       0.0   \n",
       "3  Activision  Ice Hockey     2600    Sports      0.46      0.03       0.0   \n",
       "4  Activision     Kaboom!     2600      Misc      1.07      0.07       0.0   \n",
       "\n",
       "   Other_Sales  Global_Sales  year  \n",
       "0         0.01          0.77  1980  \n",
       "1         0.00          0.27  1980  \n",
       "2         0.00          0.34  1980  \n",
       "3         0.01          0.49  1980  \n",
       "4         0.01          1.15  1980  "
      ]
     },
     "execution_count": 34,
     "metadata": {},
     "output_type": "execute_result"
    }
   ],
   "source": [
    "df.head()"
   ]
  },
  {
   "cell_type": "markdown",
   "id": "63a4fee6",
   "metadata": {},
   "source": [
    "<span style=color:red>**3.Data manipulation and visulization**</span>"
   ]
  },
  {
   "cell_type": "markdown",
   "id": "83cc9efe",
   "metadata": {},
   "source": [
    "topic 1. The most popular platform and genre and game in the specific year"
   ]
  },
  {
   "cell_type": "code",
   "execution_count": 86,
   "id": "28b49b57",
   "metadata": {},
   "outputs": [],
   "source": [
    "def mp_pf_gn_gm_year(year):\n",
    "    mp_pf=df.groupby(by=['Platform','year'])['Global_Sales'].sum().to_frame().reset_index()\n",
    "    mp_pf_d=mp_pf[mp_pf['year']==str(year)].sort_values('Global_Sales',ascending=False)\n",
    "    mp_gn=df.groupby(by=['Genre','year'])['Global_Sales'].sum().to_frame().reset_index()\n",
    "    mp_gn_d=mp_gn[mp_gn['year']==str(year)].sort_values('Global_Sales',ascending=False)\n",
    "    mp_gm=df.groupby(by=['Name','year'])['Global_Sales'].sum().to_frame().reset_index()\n",
    "    mp_gm_d=mp_gm[mp_gm['year']==str(year)].sort_values('Global_Sales',ascending=False)\n",
    "    print('The most popular game in',year,'is',mp_gm_d.iloc[0,0] ,'with',round(mp_gm_d.iloc[0,2],2),'millions global sales')\n",
    "    print('The most popular platform in',year,'is',mp_pf_d.iloc[0,0] ,'with',round(mp_pf_d.iloc[0,2],2),'millions global sales')\n",
    "    print('The most popular genre in',year,'is',mp_gn_d.iloc[0,0], 'with',round(mp_gn_d.iloc[0,2],2),'millions global sales')"
   ]
  },
  {
   "cell_type": "code",
   "execution_count": 87,
   "id": "a11d820d",
   "metadata": {},
   "outputs": [
    {
     "name": "stdout",
     "output_type": "stream",
     "text": [
      "The most popular game in 2016 is FIFA 17 with 6.91 millions global sales\n",
      "The most popular platform in 2016 is PS4 with 39.25 millions global sales\n",
      "The most popular genre in 2016 is Action with 19.9 millions global sales\n"
     ]
    }
   ],
   "source": [
    "mp_pf_gn_gm_year(2016)"
   ]
  },
  {
   "cell_type": "markdown",
   "id": "9abb5470",
   "metadata": {},
   "source": [
    "topic 2. Market insights by continents and country (North America,Europe,Japan and others) in the specific year"
   ]
  },
  {
   "cell_type": "code",
   "execution_count": 92,
   "id": "3d887d74",
   "metadata": {},
   "outputs": [],
   "source": [
    "def market_insights():\n",
    "    location=input('Please choose from North America,Europe,Japan and others')\n",
    "    year=input('Please enter a specif year in the format of 19XX or 20XX')\n",
    "    if location=='North America':\n",
    "        loc='NA_Sales'\n",
    "    elif location=='Europe':\n",
    "        loc='EU_Sales'\n",
    "    elif location=='Japan':\n",
    "        loc='JP_Sales'\n",
    "    else:\n",
    "        loc='Other_Sales'\n",
    "    mp_pf=df.groupby(by=['Platform','year'])[loc].sum().to_frame().reset_index()\n",
    "    mp_pf_d=mp_pf[mp_pf['year']==str(year)].sort_values(loc,ascending=False)\n",
    "    mp_gn=df.groupby(by=['Genre','year'])[loc].sum().to_frame().reset_index()\n",
    "    mp_gn_d=mp_gn[mp_gn['year']==str(year)].sort_values(loc,ascending=False)\n",
    "    mp_gm=df.groupby(by=['Name','year'])[loc].sum().to_frame().reset_index()\n",
    "    mp_gm_d=mp_gm[mp_gm['year']==str(year)].sort_values(loc,ascending=False)\n",
    "    print('The most popular game in',location,'market in',year,'is',mp_gm_d.iloc[0,0] ,'with',round(mp_gm_d.iloc[0,2],2),'millions global sales')\n",
    "    print('The most popular platform in',location,'market in',year,'is',mp_pf_d.iloc[0,0] ,'with',round(mp_pf_d.iloc[0,2],2),'millions global sales')\n",
    "    print('The most popular genre in',location,'market in',year,'is',mp_gn_d.iloc[0,0], 'with',round(mp_gn_d.iloc[0,2],2),'millions global sales')\n",
    "        "
   ]
  },
  {
   "cell_type": "code",
   "execution_count": 93,
   "id": "3193db08",
   "metadata": {},
   "outputs": [
    {
     "name": "stdout",
     "output_type": "stream",
     "text": [
      "Please choose from North America,Europe,Japan and othersOthers\n",
      "Please enter a specif year in the format of 19XX or 20XX2001\n",
      "The most popular game in Others market in 2001 is Grand Theft Auto III with 1.3 millions global sales\n",
      "The most popular platform in Others market in 2001 is PS2 with 16.78 millions global sales\n",
      "The most popular genre in Others market in 2001 is Sports with 4.63 millions global sales\n"
     ]
    }
   ],
   "source": [
    "market_insights()"
   ]
  },
  {
   "cell_type": "markdown",
   "id": "8a3e02ea",
   "metadata": {},
   "source": [
    "topic 3. Plot the historical sales performance of the specific genre in the specific market"
   ]
  },
  {
   "cell_type": "code",
   "execution_count": 122,
   "id": "defc50ac",
   "metadata": {},
   "outputs": [],
   "source": [
    "def plot_his_sales_loc():\n",
    "    sns.set_style('dark')\n",
    "    location=input('Please choose from North America,Europe,Japan and others: ')\n",
    "    genre=input('Please enter the specific genre of video game: ')\n",
    "    if location=='North America':\n",
    "        loc='NA_Sales'\n",
    "    elif location=='Europe':\n",
    "        loc='EU_Sales'\n",
    "    elif location=='Japan':\n",
    "        loc='JP_Sales'\n",
    "    else:\n",
    "        loc='Other_Sales'\n",
    "    dt=df[df['Genre']==genre]\n",
    "    g=sns.relplot(x='year',y=loc,data=dt,kind='line',dashes=False,ci=None)\n",
    "    g.fig.set_size_inches(16, 10, forward=True)\n",
    "    plt.xticks(rotation=90)\n",
    "    plt.legend(genre)\n",
    "    plt.show()"
   ]
  },
  {
   "cell_type": "code",
   "execution_count": 123,
   "id": "b1459a0f",
   "metadata": {},
   "outputs": [
    {
     "name": "stdout",
     "output_type": "stream",
     "text": [
      "Please choose from North America,Europe,Japan and others: Japan\n",
      "Please enter the specific genre of video game: Action\n"
     ]
    },
    {
     "data": {
      "image/png": "[encoded data removed]",
      "text/plain": [
       "<Figure size 1152x720 with 1 Axes>"
      ]
     },
     "metadata": {},
     "output_type": "display_data"
    }
   ],
   "source": [
    "plot_his_sales_loc()"
   ]
  },
  {
   "cell_type": "code",
   "execution_count": null,
   "id": "09371c69",
   "metadata": {},
   "outputs": [],
   "source": []
  }
 ],
 "metadata": {
  "kernelspec": {
   "display_name": "Python 3 (ipykernel)",
   "language": "python",
   "name": "python3"
  },
  "language_info": {
   "codemirror_mode": {
    "name": "ipython",
    "version": 3
   },
   "file_extension": ".py",
   "mimetype": "text/x-python",
   "name": "python",
   "nbconvert_exporter": "python",
   "pygments_lexer": "ipython3",
   "version": "3.9.7"
  }
 },
 "nbformat": 4,
 "nbformat_minor": 5
}
